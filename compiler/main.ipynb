{
 "cells": [
  {
   "cell_type": "code",
   "execution_count": 9,
   "metadata": {},
   "outputs": [],
   "source": [
    "PE_COUNT=4\n",
    "\n",
    "opcode_map={\n",
    "    \"NOP\":0,\n",
    "    \"FETCH_A\":1,\n",
    "    \"FETCH_B\":2,\n",
    "    \"ADD\":3,\n",
    "    \"SUB\":4,\n",
    "    \"MUL\":5,\n",
    "    \"DOT\":6,\n",
    "    \"STORE_TMP_I\":7,\n",
    "    \"STORE_TMP_F\":8,\n",
    "    \"STORE\":9,\n",
    "    \"STOP\":10\n",
    "}\n",
    "\n",
    "def op_mat_mul(M, N, P, W=PE_COUNT):\n",
    "    cmds_asm = []\n",
    "    for m in range(M):\n",
    "        for p in range(0,P,W):\n",
    "            for w in range(W):\n",
    "                for n in range(N//W):\n",
    "                    cmds_asm.append(\"FETCH_A {}\".format(m*N//W+n))\n",
    "                    cmds_asm.append(\"FETCH_B {}\".format((p+w)*N//W+n))\n",
    "                    cmds_asm.append(\"DOT\")\n",
    "                cmds_asm.append(\"STORE_TMP_F\")\n",
    "            cmds_asm.append(\"STORE {}\".format(m*P//W+p//W))\n",
    "    return cmds_asm, \"MATMUL_{}x{}_{}x{}_{}\".format(M,N,N,P,W)\n",
    "\n",
    "def op_elem(op,M, N, W=PE_COUNT):\n",
    "    cmds_asm = []\n",
    "    for m in range(M):        \n",
    "        for n in range(0,N,W):\n",
    "            addr=m*N//W+n//W\n",
    "            cmds_asm.append(\"FETCH_A {}\".format(addr))\n",
    "            cmds_asm.append(\"FETCH_B {}\".format(addr))\n",
    "            cmds_asm.append(op)\n",
    "            cmds_asm.append(\"STORE_TMP_I\")\n",
    "            cmds_asm.append(\"STORE {}\".format(addr))\n",
    "           \n",
    "    return cmds_asm, \"{}_{}x{}_{}\".format(op,M,N,W)\n",
    "\n",
    "def cmp(cmds_asm,op_name):\n",
    "    cmds_bin=[]\n",
    "    cmds_asm.insert(0,\"NOP\")\n",
    "    cmds_asm.append(\"STOP\")\n",
    "\n",
    "    for cmd in cmds_asm:\n",
    "        opcode,*addr=cmd.split()\n",
    "        if addr:\n",
    "            cmd_bin=format(int(addr[0]),\"08b\")\n",
    "        else:\n",
    "            cmd_bin=format(0,\"08b\")            \n",
    "        cmd_bin+=format(opcode_map[opcode],\"04b\")\n",
    "        cmds_bin.append(cmd_bin)\n",
    "\n",
    "    with open(\"cmds\\\\{}.bin.txt\".format(op_name),\"w\") as f:\n",
    "        f.write(\"\\n\".join(cmds_bin))\n",
    "\n",
    "    with open(\"cmds\\\\{}.asm.txt\".format(op_name),\"w\") as f:\n",
    "        f.write(\"\\n\".join(cmds_asm))\n",
    "\n",
    "\n",
    "M,N,P=8,8,8\n",
    "W=4\n",
    "cmp(*op_mat_mul(M,N,P,W))\n",
    "cmp(*op_elem(\"ADD\",M,N,W))\n",
    "cmp(*op_elem(\"SUB\",M,N,W))\n",
    "cmp(*op_elem(\"MUL\",M,N,W))\n",
    "    "
   ]
  },
  {
   "cell_type": "code",
   "execution_count": null,
   "metadata": {},
   "outputs": [],
   "source": [
    "opcode_map = {\n",
    "    \"NOP\": 0,\n",
    "    \"FETCH_A\": 1,\n",
    "    \"FETCH_B\": 2,\n",
    "    \"ADD\": 3,\n",
    "    \"SUB\": 4,\n",
    "    \"MUL\": 5,\n",
    "    \"DOT\": 6,\n",
    "    \"STORE_TMP_I\": 7,\n",
    "    \"STORE_TMP_F\": 8,\n",
    "    \"STORE\": 9,\n",
    "    \"STOP\": 10\n",
    "}\n",
    "cmds_asm = []\n",
    "def op_mat_mul(M, N, P, W=PE_COUNT):\n",
    "    \n",
    "    for m in range(M):\n",
    "        for p in range(0, P, W):\n",
    "            for w in range(W):\n",
    "                for n in range(N//W):\n",
    "                    cmds_asm.append(\"FETCH_A {}\".format(m*N//W+n))\n",
    "                    cmds_asm.append(\"FETCH_B {}\".format((p+w)*N//W+n))\n",
    "                    cmds_asm.append(\"DOT\")\n",
    "                cmds_asm.append(\"STORE_TMP_F\")\n",
    "            cmds_asm.append(\"STORE {}\".format(m*P//W+p//W))\n",
    "    return cmds_asm, \"MATMUL_{}x{}_{}x{}_{}\".format(M, N,N,P,W)\n"
   ]
  },
  {
   "cell_type": "code",
   "execution_count": 16,
   "metadata": {},
   "outputs": [
    {
     "name": "stdout",
     "output_type": "stream",
     "text": [
      "0000\n"
     ]
    }
   ],
   "source": [
    "\n"
   ]
  }
 ],
 "metadata": {
  "kernelspec": {
   "display_name": "Python 3",
   "language": "python",
   "name": "python3"
  },
  "language_info": {
   "codemirror_mode": {
    "name": "ipython",
    "version": 3
   },
   "file_extension": ".py",
   "mimetype": "text/x-python",
   "name": "python",
   "nbconvert_exporter": "python",
   "pygments_lexer": "ipython3",
   "version": "3.10.0"
  }
 },
 "nbformat": 4,
 "nbformat_minor": 2
}
