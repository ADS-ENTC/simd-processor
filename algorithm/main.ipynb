{
 "cells": [
  {
   "cell_type": "code",
   "execution_count": 3,
   "metadata": {},
   "outputs": [
    {
     "name": "stdout",
     "output_type": "stream",
     "text": [
      "0 0\n",
      "2 8\n",
      "\n",
      "0 2\n",
      "2 10\n",
      "\n",
      "\n",
      "8 0\n",
      "10 8\n",
      "\n",
      "8 2\n",
      "10 10\n",
      "\n",
      "\n"
     ]
    }
   ],
   "source": [
    "import numpy as np\n",
    "\n",
    "MAT_SIZE=4\n",
    "MEM_LENGTH=MAT_SIZE*MAT_SIZE*10\n",
    "\n",
    "MEM_TMP_ADDR=3*MAT_SIZE*MAT_SIZE\n",
    "PE_MAT_SIZE=2\n",
    "PE_COUNT=2\n",
    "# mem=np.zeros(PE_MAT_SIZE*PE_MAT_SIZE*MAT_COUNT,np.uint32)\n",
    "mem=np.zeros(MEM_LENGTH,np.uint32)\n",
    "mem[:2*MAT_SIZE*MAT_SIZE]=np.arange(2*MAT_SIZE*MAT_SIZE)\n",
    "\n",
    "\n",
    "class PE:\n",
    "    def test():\n",
    "        print(\"test\")\n",
    "    def mul(m1_ptr,m2_ptr,ans_ptr,mat_size=PE_MAT_SIZE):\n",
    "        mem[ans_ptr:ans_ptr+mat_size*mat_size]=np.reshape(np.matmul(\n",
    "            np.reshape(mem[m1_ptr:m1_ptr+mat_size*mat_size],(mat_size,mat_size)),\n",
    "            np.reshape(mem[m2_ptr:m2_ptr+mat_size*mat_size],(mat_size,mat_size))),\n",
    "            mat_size*mat_size)\n",
    "\n",
    "    def add(m1_ptr,m2_ptr,ans_ptr,mat_size=PE_MAT_SIZE):\n",
    "        mem[ans_ptr:ans_ptr+mat_size*mat_size]=np.add(\n",
    "            mem[m1_ptr:m1_ptr+mat_size*mat_size],\n",
    "            mem[m2_ptr:m2_ptr+mat_size*mat_size])\n",
    "\n",
    "class Display:\n",
    "    def mat(ptr,mat_size=PE_MAT_SIZE):\n",
    "        for i in range(ptr,ptr+mat_size*mat_size,mat_size):\n",
    "            for d in mem[i:i+mat_size]:\n",
    "                str_d=str(d)\n",
    "                print(\" \"*(2-len(str_d))+str_d,end=' ')\n",
    "            print()\n",
    "        print()\n",
    "\n",
    "    def all(base=0,mat_size=PE_MAT_SIZE):\n",
    "        for ptr in range(base,MEM_LENGTH,mat_size*mat_size):\n",
    "            Display.mat(ptr,mat_size)\n",
    "            print()\n",
    "\n",
    "mat1_ptr=0\n",
    "mat2_ptr=mat1_ptr+MAT_SIZE*MAT_SIZE\n",
    "matAns_ptr=mat2_ptr+MAT_SIZE*MAT_SIZE\n",
    "\n",
    "# intialize tmp zero matrix\n",
    "for PE_i in range(PE_COUNT):\n",
    "    addr=MEM_TMP_ADDR+PE_i*2*PE_MAT_SIZE*PE_MAT_SIZE\n",
    "    mem[addr:addr+PE_MAT_SIZE*PE_MAT_SIZE]=np.zeros(PE_MAT_SIZE*PE_MAT_SIZE)\n",
    "\n",
    "# #test PE\n",
    "# m1_ptr=0\n",
    "# m2_ptr=m1_ptr+PE_MAT_SIZE*PE_MAT_SIZE\n",
    "# ans_ptr=m2_ptr+PE_MAT_SIZE*PE_MAT_SIZE\n",
    "\n",
    "# PE.add(m1_ptr,m2_ptr,ans_ptr)\n",
    "\n",
    "# Display.mat(m1_ptr)\n",
    "# Display.mat(m2_ptr)\n",
    "\n",
    "# Display.mat(ans_ptr)\n",
    "# #test PE\n",
    "\n",
    "def get_addr(i,j,base=0):\n",
    "    return i*PE_MAT_SIZE*MAT_SIZE+j*PE_MAT_SIZE+base\n",
    "\n",
    "\n",
    "for i in range(MAT_SIZE//PE_MAT_SIZE):    \n",
    "    for PE_i in range(PE_COUNT):\n",
    "        add_addr=MEM_TMP_ADDR+PE_i*2*PE_MAT_SIZE*PE_MAT_SIZE\n",
    "        mul_addr=add_addr+PE_MAT_SIZE*PE_MAT_SIZE\n",
    "        for j in range(MAT_SIZE//PE_MAT_SIZE):\n",
    "            PE.mul(get_addr(i,j,mat1_ptr),get_addr(j,PE_i,mat2_ptr),mul_addr)\n",
    "            PE.add(add_addr,mul_addr,add_addr)\n",
    "            print(get_addr(i,j),get_addr(j,PE_i))\n",
    "        print()\n",
    "    print()\n",
    "\n",
    "            \n",
    "\n",
    "\n"
   ]
  },
  {
   "cell_type": "code",
   "execution_count": 53,
   "metadata": {},
   "outputs": [
    {
     "data": {
      "text/plain": [
       "array([[ 4,  6],\n",
       "       [ 8, 10]])"
      ]
     },
     "execution_count": 53,
     "metadata": {},
     "output_type": "execute_result"
    }
   ],
   "source": [
    "a=np.array([[0,1],\n",
    "            [2,3]])\n",
    "\n",
    "b=np.array([[4,5], \n",
    "            [6,7]])\n",
    "\n",
    "np.add(a,b)"
   ]
  }
 ],
 "metadata": {
  "interpreter": {
   "hash": "607db476e417971f05b607c2dd14e77ee8262c2c4c20dea422522c60605a222a"
  },
  "kernelspec": {
   "display_name": "Python 3.10.0 64-bit",
   "language": "python",
   "name": "python3"
  },
  "language_info": {
   "codemirror_mode": {
    "name": "ipython",
    "version": 3
   },
   "file_extension": ".py",
   "mimetype": "text/x-python",
   "name": "python",
   "nbconvert_exporter": "python",
   "pygments_lexer": "ipython3",
   "version": "3.10.0"
  },
  "orig_nbformat": 4
 },
 "nbformat": 4,
 "nbformat_minor": 2
}
